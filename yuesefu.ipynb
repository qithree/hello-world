{
 "cells": [
  {
   "cell_type": "code",
   "execution_count": 6,
   "metadata": {
    "tags": []
   },
   "outputs": [
    {
     "output_type": "stream",
     "name": "stdout",
     "text": "3号淘汰了\n6号淘汰了\n9号淘汰了\n12号淘汰了\n15号淘汰了\n18号淘汰了\n21号淘汰了\n24号淘汰了\n2号淘汰了\n7号淘汰了\n11号淘汰了\n16号淘汰了\n20号淘汰了\n25号淘汰了\n5号淘汰了\n13号淘汰了\n19号淘汰了\n1号淘汰了\n10号淘汰了\n22号淘汰了\n8号淘汰了\n23号淘汰了\n17号淘汰了\n4号淘汰了\n"
    }
   ],
   "source": [
    "#约瑟夫环问题：已知n个人（以编号1，2，3…n分别表示）围坐在一张圆桌周围。从第s个人开始报数，数到m的那个人出列；他的下一个人又从1开始报数，数到m的那个人又出列；依此规律重复下去，直到圆桌周围的人全部出列\n",
    "#若有n个人，报到m的人出列，最后留下x人，我们假设n=25,m=3,x=1\n",
    "total_num=25\n",
    "step=3\n",
    "remain=1\n",
    "people=list(range(1,total_num+1))\n",
    "while len(people)>remain:\n",
    "    i=1             #每次while循环时初始化i\n",
    "    while i<step:\n",
    "        people.append(people.pop(0))\n",
    "        i+=1\n",
    "    print('{}号淘汰了'.format(people.pop(0)))\n"
   ]
  },
  {
   "cell_type": "code",
   "execution_count": null,
   "metadata": {},
   "outputs": [],
   "source": []
  }
 ],
 "metadata": {
  "language_info": {
   "codemirror_mode": {
    "name": "ipython",
    "version": 3
   },
   "file_extension": ".py",
   "mimetype": "text/x-python",
   "name": "python",
   "nbconvert_exporter": "python",
   "pygments_lexer": "ipython3",
   "version": "3.7.6-final"
  },
  "orig_nbformat": 2,
  "kernelspec": {
   "name": "python3",
   "display_name": "Python 3"
  }
 },
 "nbformat": 4,
 "nbformat_minor": 2
}