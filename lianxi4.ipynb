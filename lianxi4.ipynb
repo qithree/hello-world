{
 "cells": [
  {
   "cell_type": "code",
   "execution_count": 4,
   "metadata": {
    "tags": []
   },
   "outputs": [
    {
     "output_type": "stream",
     "name": "stdout",
     "text": "354224848179261915075\n"
    }
   ],
   "source": [
    "#根剧高德纳（Donald Ervin Knuth）的《计算机程序设计艺术》（The Art of Computer Programming），1150 年印度数学家 Gopala 和金月在研究箱子包装物件长宽刚好为 1 和 2 的可行方法数目时，首先描述这个数列。 在西方，最先研究这个数列列的人是比萨的李奥纳多（意大利人斐波那契 Leonardo Fibonacci），他描述兔子生長的数目時用上了这数列。第一个月初有一对刚诞生的兔子;第二个月之后（第三个月初）他们可以生育,每月每对可生育的兔子会诞生下一对新兔子;兔子永不死去\n",
    "#假设计 n 月有可生育的兔子总共 a 对，n+1 月就总共有 b 对。在 n+2 月必定总共有 a+b 对： 因为在 n+2 月的时候，前一月（n+1 月）的 b 对兔子可以存留至第 n+2 月（在当月属于新诞生的兔子尚不能生育）。而新生育出的兔子對数等于所有在 n 月就已存在的 a 对\n",
    "#!/usr/bin/env Python\n",
    "# coding=utf-8\n",
    "\n",
    "a, b = 0, 1\n",
    "\n",
    "for i in range(100):    #改变这里的数，就能得到相应项的结果\n",
    "    a, b = b, a+b\n",
    "\n",
    "print (a)"
   ]
  },
  {
   "cell_type": "code",
   "execution_count": null,
   "metadata": {},
   "outputs": [],
   "source": []
  }
 ],
 "metadata": {
  "language_info": {
   "codemirror_mode": {
    "name": "ipython",
    "version": 3
   },
   "file_extension": ".py",
   "mimetype": "text/x-python",
   "name": "python",
   "nbconvert_exporter": "python",
   "pygments_lexer": "ipython3",
   "version": "3.7.6-final"
  },
  "orig_nbformat": 2,
  "kernelspec": {
   "name": "python3",
   "display_name": "Python 3"
  }
 },
 "nbformat": 4,
 "nbformat_minor": 2
}