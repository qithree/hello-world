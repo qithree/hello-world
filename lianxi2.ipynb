{
 "cells": [
  {
   "cell_type": "code",
   "execution_count": 16,
   "metadata": {
    "tags": []
   },
   "outputs": [
    {
     "output_type": "stream",
     "name": "stdout",
     "text": "[96, 89, 54, 11, 43, 21, 83, 2, 54, 99, 37, 58, 37, 3, 56, 100, 72, 3, 61, 1, 81, 0, 93, 60, 39, 91, 3, 69, 3, 47, 100, 96, 97, 57, 21, 8, 22, 58, 9, 97]\nthe average score is:50.8\nThere are 18 students less than average.\n[100, 100, 99, 97, 97, 96, 96, 93, 91, 89, 83, 81, 72, 69, 61, 60, 58, 58, 57, 56, 54, 54, 47, 43, 39, 37, 37, 22, 21, 21, 11, 9, 8, 3, 3, 3, 3, 2, 1, 0]\n"
    }
   ],
   "source": [
    "#按照下面的要求实现对列表的操作：产生一个列表，其中有 40 个元素，每个元素是 0 到 100 的一个随机整数如果这个列表中的数据代表着某个班级 40 人的分数，请计算成绩低于平均分的学生人数，并输出对上面的列表元素从大到小排序\n",
    "#!/usr/bin/env Python\n",
    "# coding=utf-8\n",
    "\n",
    "from __future__ import division\n",
    "import random\n",
    "total_num=40\n",
    "score = [random.randint(0,100) for i in range(total_num)]    \n",
    "print (score)\n",
    "\n",
    "num = len(score)\n",
    "sum_score = sum(score)               \n",
    "average_num = sum_score/num              \n",
    "less_average = len([i for i in score if i<average_num])   \n",
    "print (\"the average score is:%.1f\" % average_num)\n",
    "print (\"There are %d students less than average.\" % less_average)\n",
    "\n",
    "sort_score = sorted(score, reverse=True)    \n",
    "print (sort_score)"
   ]
  },
  {
   "cell_type": "code",
   "execution_count": null,
   "metadata": {},
   "outputs": [],
   "source": []
  }
 ],
 "metadata": {
  "language_info": {
   "codemirror_mode": {
    "name": "ipython",
    "version": 3
   },
   "file_extension": ".py",
   "mimetype": "text/x-python",
   "name": "python",
   "nbconvert_exporter": "python",
   "pygments_lexer": "ipython3",
   "version": "3.7.6-final"
  },
  "orig_nbformat": 2,
  "kernelspec": {
   "name": "python3",
   "display_name": "Python 3"
  }
 },
 "nbformat": 4,
 "nbformat_minor": 2
}