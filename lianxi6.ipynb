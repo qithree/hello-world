{
 "cells": [
  {
   "cell_type": "code",
   "execution_count": 3,
   "metadata": {
    "tags": []
   },
   "outputs": [
    {
     "output_type": "stream",
     "name": "stdout",
     "text": "the average score is:  75.44444444444444\nlist of the scores:  [('eight', 99), ('one', 95), ('two', 93), ('four', 82), ('seven', 76), ('six', 70), ('nine', 63), ('three', 52), ('five', 49)]\nXueba is:  [('eight', 99)]\nXuzha is:  [('five', 49)]\n"
    }
   ],
   "source": [
    "#每次考试之后，教师都要统计考试成绩，一般包括：平均分，对所有人按成绩从高到低排队，谁成绩最好，谁成绩最差。\n",
    "#!/usr/bin/env Python\n",
    "# coding=utf-8\n",
    "\n",
    "def average_score(scores):\n",
    "    score_values = scores.values()\n",
    "    sum_scores = sum(score_values)\n",
    "    average = sum_scores/len(score_values)\n",
    "    return average\n",
    "\n",
    "def sorted_score(scores):\n",
    "    score_lst = [(scores[k],k) for k in scores]\n",
    "    sort_lst = sorted(score_lst, reverse=True)\n",
    "    return [(i[1], i[0]) for i in sort_lst]\n",
    "\n",
    "def max_score(scores):\n",
    "    lst = sorted_score(scores)    \n",
    "    max_score = lst[0][1]\n",
    "    return [(i[0],i[1]) for i in lst if i[1]==max_score]\n",
    "\n",
    "def min_score(scores):\n",
    "    lst = sorted_score(scores)\n",
    "    min_score = lst[len(lst)-1][1]\n",
    "    return [(i[0],i[1]) for i in lst if i[1]==min_score]\n",
    "\n",
    "if __name__ == \"__main__\":\n",
    "    examine_scores = {\"one\":95, \"two\":93, \"three\":52, \"four\":82, \"five\":49, \"six\":70, \"seven\":76, \"eight\":99, \"nine\":63}\n",
    "\n",
    "    ave = average_score(examine_scores)\n",
    "    print (\"the average score is: \",ave)    \n",
    "\n",
    "    sor = sorted_score(examine_scores)\n",
    "    print (\"list of the scores: \",sor )    \n",
    "\n",
    "    xueba = max_score(examine_scores)\n",
    "    print (\"Xueba is: \",xueba )             \n",
    "\n",
    "    xuezha = min_score(examine_scores)\n",
    "    print (\"Xuzha is: \",xuezha )           "
   ]
  },
  {
   "cell_type": "code",
   "execution_count": null,
   "metadata": {},
   "outputs": [],
   "source": []
  }
 ],
 "metadata": {
  "language_info": {
   "codemirror_mode": {
    "name": "ipython",
    "version": 3
   },
   "file_extension": ".py",
   "mimetype": "text/x-python",
   "name": "python",
   "nbconvert_exporter": "python",
   "pygments_lexer": "ipython3",
   "version": "3.7.6-final"
  },
  "orig_nbformat": 2,
  "kernelspec": {
   "name": "python3",
   "display_name": "Python 3"
  }
 },
 "nbformat": 4,
 "nbformat_minor": 2
}