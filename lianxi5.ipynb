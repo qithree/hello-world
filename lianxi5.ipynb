{
 "cells": [
  {
   "cell_type": "code",
   "execution_count": 15,
   "metadata": {
    "tags": []
   },
   "outputs": [
    {
     "output_type": "stream",
     "name": "stdout",
     "text": "a quadratic equation: x^2 + 5x + 4= 0\nthe result is: (-1.0, -4.0)\n"
    }
   ],
   "source": [
    "#解一元二次方程\n",
    "#!/usr/bin/env Python\n",
    "# coding=utf-8\n",
    "\n",
    "import math\n",
    "\n",
    "def quadratic_equation(a,b,c):\n",
    "    delta = b*b - 4*a*c\n",
    "    if delta<0:\n",
    "        return False\n",
    "    elif delta==0:\n",
    "        return -(b/(2*a))\n",
    "    else:\n",
    "        sqrt_delta = math.sqrt(delta)\n",
    "        x1 = (-b + sqrt_delta)/(2*a)\n",
    "        x2 = (-b - sqrt_delta)/(2*a)\n",
    "        return x1, x2\n",
    "\n",
    "if __name__ == \"__main__\":\n",
    "    print (\"a quadratic equation: x^2 + 5x + 4= 0\")\n",
    "    xishu = (1, 5, 4)\n",
    "    roots = quadratic_equation(*xishu)\n",
    "    if roots:\n",
    "        print (\"the result is:\",roots)\n",
    "    else:\n",
    "        print (\"this equation has no solution.\")"
   ]
  },
  {
   "cell_type": "code",
   "execution_count": null,
   "metadata": {},
   "outputs": [],
   "source": []
  }
 ],
 "metadata": {
  "language_info": {
   "codemirror_mode": {
    "name": "ipython",
    "version": 3
   },
   "file_extension": ".py",
   "mimetype": "text/x-python",
   "name": "python",
   "nbconvert_exporter": "python",
   "pygments_lexer": "ipython3",
   "version": "3.7.6-final"
  },
  "orig_nbformat": 2,
  "kernelspec": {
   "name": "python3",
   "display_name": "Python 3"
  }
 },
 "nbformat": 4,
 "nbformat_minor": 2
}