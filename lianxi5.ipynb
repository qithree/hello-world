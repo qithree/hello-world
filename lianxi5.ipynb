{
 "cells": [
  {
   "cell_type": "code",
   "execution_count": 4,
   "metadata": {
    "tags": []
   },
   "outputs": [
    {
     "output_type": "stream",
     "name": "stdout",
     "text": "Ax^2+Bx+c=0\n2 6 3\nThere are two solutions to this equation:-0.6339745962155614 -2.3660254037844384\n"
    }
   ],
   "source": [
    "#解一元二次方程\n",
    "#!/usr/bin/env Python\n",
    "# coding=utf-8\n",
    "\n",
    "print(\"Ax^2+Bx+c=0\")\n",
    "A = input(\"please enter A：\")\n",
    "B = input(\"please enter B：\")\n",
    "C = input(\"please enter C：\")\n",
    "print (A,B,C)\n",
    "\n",
    "a = float(A)\n",
    "b = float(B)\n",
    "c = float(C)\n",
    "\n",
    "if  b*b > 4*a*c:\n",
    "    print(\"There are two solutions to this equation:\",end='')\n",
    "    x1 = ( -b + (b**2-4*a*c)**0.5 )/(2*a)\n",
    "    x2 = ( -b - (b**2-4*a*c)**0.5 )/(2*a)\n",
    "    print(x1, x2)\n",
    "elif  b*b==4*a*c:\n",
    "    print (\"There are one solutions to this equation:\",end=' ')\n",
    "    x = -b/(2*a)\n",
    "    print (x)\n",
    "else:\n",
    "    print(\"this equation has no solution\")\n"
   ]
  },
  {
   "cell_type": "code",
   "execution_count": null,
   "metadata": {},
   "outputs": [],
   "source": []
  }
 ],
 "metadata": {
  "language_info": {
   "codemirror_mode": {
    "name": "ipython",
    "version": 3
   },
   "file_extension": ".py",
   "mimetype": "text/x-python",
   "name": "python",
   "nbconvert_exporter": "python",
   "pygments_lexer": "ipython3",
   "version": "3.7.6-final"
  },
  "orig_nbformat": 2,
  "kernelspec": {
   "name": "python3",
   "display_name": "Python 3"
  }
 },
 "nbformat": 4,
 "nbformat_minor": 2
}