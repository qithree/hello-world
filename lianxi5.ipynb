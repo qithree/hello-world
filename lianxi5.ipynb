{
 "cells": [
  {
   "cell_type": "code",
   "execution_count": 16,
   "metadata": {
    "tags": []
   },
   "outputs": [],
   "source": [
    "#解一元二次方程\n",
    "#!/usr/bin/env Python\n",
    "# coding=utf-8\n",
    "from math import sqrt\n",
    "a=float(input(\"enter a:\"))\n",
    "b=float(input(\"enter b:\"))\n",
    "c=float(input(\"enter c:\"))\n",
    "delta=b*b-4*a*c\n",
    "\n",
    "def get_solve(a,b,c):\n",
    "    delta=b*b-4*a*c\n",
    "    if delta<0:\n",
    "        raise ValueError(\"get delta under zero.\")\n",
    "    else:\n",
    "        x1 = (-b + sqrt(delta))/(2*a)\n",
    "        x2 = (-b - sqrt(delta))/(2*a)\n",
    "        return x1,x2\n",
    "try:\n",
    "    get_solve(a,b,c)\n",
    "except ValueError as ex:\n",
    "    print(ex)\n",
    "    get_solve(a,b,c)\n",
    "    print(\"done\")\n",
    "    print(x1,x2)"
   ]
  },
  {
   "cell_type": "code",
   "execution_count": null,
   "metadata": {},
   "outputs": [],
   "source": []
  }
 ],
 "metadata": {
  "language_info": {
   "codemirror_mode": {
    "name": "ipython",
    "version": 3
   },
   "file_extension": ".py",
   "mimetype": "text/x-python",
   "name": "python",
   "nbconvert_exporter": "python",
   "pygments_lexer": "ipython3",
   "version": "3.7.6-final"
  },
  "orig_nbformat": 2,
  "kernelspec": {
   "name": "python3",
   "display_name": "Python 3"
  }
 },
 "nbformat": 4,
 "nbformat_minor": 2
}