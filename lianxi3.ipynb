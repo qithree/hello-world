{
 "cells": [
  {
   "cell_type": "code",
   "execution_count": 13,
   "metadata": {
    "tags": []
   },
   "outputs": [
    {
     "output_type": "stream",
     "name": "stdout",
     "text": "you are  beautiful\n['you', 'are', '', 'beautiful']\n['you', 'are', 'beautiful']\nyou are beautiful\n"
    }
   ],
   "source": [
    "#如果将一句话作为一个字符串，那么这个字符串中必然会有空格（这里仅讨论英文），比如\"How are you.\"，但有的时候，会在两个单词之间多大一个空格。现在的任务是，如果一个字符串中有连续的两个空格，请把它删除\n",
    "#!/usr/bin/env Python\n",
    "# coding=utf-8\n",
    "\n",
    "string = \"you are  beautiful\"    \n",
    "print (string )               \n",
    "\n",
    "str_lst = string.split(\" \")    #以空格为分割，得到词汇的列表\n",
    "print (str_lst)\n",
    "\n",
    "danci= [s for s in str_lst if s!=\"\"]    #利用列表解析，将空格检出\n",
    "print (danci)\n",
    "\n",
    "new_string = \" \".join(danci)\n",
    "print (new_string)\n"
   ]
  },
  {
   "cell_type": "code",
   "execution_count": null,
   "metadata": {},
   "outputs": [],
   "source": []
  }
 ],
 "metadata": {
  "language_info": {
   "codemirror_mode": {
    "name": "ipython",
    "version": 3
   },
   "file_extension": ".py",
   "mimetype": "text/x-python",
   "name": "python",
   "nbconvert_exporter": "python",
   "pygments_lexer": "ipython3",
   "version": "3.7.6-final"
  },
  "orig_nbformat": 2,
  "kernelspec": {
   "name": "python3",
   "display_name": "Python 3"
  }
 },
 "nbformat": 4,
 "nbformat_minor": 2
}